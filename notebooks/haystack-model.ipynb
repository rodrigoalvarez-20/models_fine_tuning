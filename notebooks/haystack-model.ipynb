{
 "cells": [
  {
   "cell_type": "code",
   "execution_count": 37,
   "metadata": {},
   "outputs": [],
   "source": [
    "from haystack.nodes import FARMReader, BM25Retriever\n",
    "from haystack.document_stores import InMemoryDocumentStore\n",
    "from haystack.pipelines.standard_pipelines import TextIndexingPipeline\n",
    "from GPUtil import showUtilization as gpu_usage\n",
    "from haystack.pipelines import ExtractiveQAPipeline\n",
    "from numba import cuda\n",
    "import logging\n",
    "import torch\n",
    "import os\n",
    "\n",
    "logging.basicConfig(format=\"%(levelname)s - %(name)s -  %(message)s\", level=logging.WARNING)\n",
    "logging.getLogger(\"haystack\").setLevel(logging.INFO)"
   ]
  },
  {
   "cell_type": "code",
   "execution_count": 38,
   "metadata": {},
   "outputs": [],
   "source": [
    "BASE_DOCUMENTS_DIR = \"gi_datasets\"\n",
    "BASE_SQAC_DIR = \"gi_sqac_ds\"\n",
    "SQAC_AW = \"gi_answers.json\"\n",
    "FT_MODEL = \"hy_fine_trained\"\n",
    "BASE_MODEL_FOR_FT = \"IIC/roberta-base-spanish-sqac\" #\"distilbert-base-uncased-distilled-squad\"\n"
   ]
  },
  {
   "cell_type": "code",
   "execution_count": 39,
   "metadata": {},
   "outputs": [],
   "source": [
    "def free_gpu_cache():\n",
    "    print(\"Initial GPU Usage\")\n",
    "    gpu_usage()                             \n",
    "\n",
    "    torch.cuda.empty_cache()\n",
    "\n",
    "    cuda.select_device(0)\n",
    "    cuda.close()\n",
    "    cuda.select_device(0)\n",
    "\n",
    "    print(\"GPU Usage after emptying the cache\")\n",
    "    gpu_usage()"
   ]
  },
  {
   "cell_type": "code",
   "execution_count": 40,
   "metadata": {},
   "outputs": [],
   "source": [
    "#free_gpu_cache()"
   ]
  },
  {
   "cell_type": "code",
   "execution_count": 41,
   "metadata": {},
   "outputs": [
    {
     "name": "stderr",
     "output_type": "stream",
     "text": [
      "INFO - haystack.modeling.utils -  Using devices: CUDA:0 - Number of GPUs: 1\n",
      "INFO - haystack.modeling.utils -  Using devices: CUDA:0 - Number of GPUs: 1\n",
      "INFO - haystack.modeling.model.language_model -   * LOADING MODEL: 'IIC/roberta-base-spanish-sqac' (Roberta)\n",
      "INFO - haystack.modeling.model.language_model -  Auto-detected model language: spanish\n",
      "INFO - haystack.modeling.model.language_model -  Loaded 'IIC/roberta-base-spanish-sqac' (Roberta model) from model hub.\n",
      "INFO - haystack.modeling.utils -  Using devices: CUDA:0 - Number of GPUs: 1\n"
     ]
    }
   ],
   "source": [
    "ft_reader = FARMReader(model_name_or_path=BASE_MODEL_FOR_FT, use_gpu=True)"
   ]
  },
  {
   "cell_type": "code",
   "execution_count": 42,
   "metadata": {},
   "outputs": [
    {
     "name": "stderr",
     "output_type": "stream",
     "text": [
      "INFO - haystack.modeling.utils -  Using devices: CUDA:0 - Number of GPUs: 1\n",
      "INFO - haystack.modeling.data_handler.data_silo -  \n",
      "Loading data into the data silo ... \n",
      "              ______\n",
      "               |o  |   !\n",
      "   __          |:`_|---'-.\n",
      "  |__|______.-/ _ \\-----.|\n",
      " (o)(o)------'\\ _ /     ( )\n",
      " \n",
      "INFO - haystack.modeling.data_handler.data_silo -  LOADING TRAIN DATA\n",
      "INFO - haystack.modeling.data_handler.data_silo -  ==================\n",
      "INFO - haystack.modeling.data_handler.data_silo -  Loading train set from: gi_sqac_ds/gi_answers.json \n",
      "Preprocessing dataset:   0%|          | 0/1 [00:00<?, ? Dicts/s]WARNING - haystack.modeling.data_handler.processor -  Answer using start/end indices is 'mbre real es Ei, es ' while gold label text is 'su nombre real es Ei'.\n",
      "Example will not be converted for training/evaluation.\n",
      "WARNING - haystack.modeling.data_handler.processor -  Answer using start/end indices is ' encuentra meditando dentro del Plano de' while gold label text is 'meditando dentro del Plano de la eutimia'.\n",
      "Example will not be converted for training/evaluation.\n",
      "WARNING - haystack.modeling.data_handler.processor -  Answer using start/end indices is 'e la eutimia. Ella es el recipiente morta' while gold label text is 'Ella es el recipiente mortal de Beelzebul'.\n",
      "Example will not be converted for training/evaluation.\n",
      "WARNING - haystack.modeling.data_handler.processor -  Answer using start/end indices is ' el nombre de \"Su Excelencia, la todopode' while gold label text is '\"Su Excelencia, la todopoderosa Narukami\"'.\n",
      "Example will not be converted for training/evaluation.\n",
      "WARNING - haystack.modeling.data_handler.processor -  Answer using start/end indices is 'sa Narukami\", le prometió a los habitantes de Inazuma la inmuta' while gold label text is 'le prometió a los habitantes de Inazuma la inmutable eternidad.'.\n",
      "Example will not be converted for training/evaluation.\n",
      "WARNING - haystack.modeling.data_handler.processor -  Answer using start/end indices is '=Apariencia==\n",
      "La Shogun Raiden es una mujer adulta con largo cabello violeta trenzado que va detrás de su espalda y una horquilla en su lado derecho. Lleva una pequeña cinta carmesí en el cuello a modo d' while gold label text is 'La Shogun Raiden es una mujer adulta con largo cabello violeta trenzado que va detrás de su espalda y una horquilla en su lado derecho. Lleva una pequeña cinta carmesí en el cuello a modo de gargantilla.'.\n",
      "Example will not be converted for training/evaluation.\n",
      "WARNING - haystack.modeling.data_handler.processor -  Answer using start/end indices is 'ga Yae Miko.\n",
      "\n",
      "Ei tiene una gran debilidad contra los postres, ya que su opinión es que los postres no pueden representar ningún obstáculo serio para su búsqueda d' while gold label text is 'Ei tiene una gran debilidad contra los postres, ya que su opinión es que los postres no pueden representar ningún obstáculo serio para su búsqueda de la Eternidad'.\n",
      "Example will not be converted for training/evaluation.\n",
      "WARNING - haystack.modeling.data_handler.processor -  Answer using start/end indices is '\n",
      "==Talentos==\n",
      "' while gold label text is 'Estilo Genryuu'.\n",
      "Example will not be converted for training/evaluation.\n",
      "WARNING - haystack.modeling.data_handler.processor -  Answer using start/end indices is ' de impacto.\n",
      "\n",
      "Trascendencia: Pr' while gold label text is 'Trascendencia: Presagio maligno'.\n",
      "Example will not be converted for training/evaluation.\n",
      "Preprocessing dataset: 100%|██████████| 1/1 [00:00<00:00, 38.75 Dicts/s]\n",
      "ERROR - haystack.modeling.data_handler.processor -  Unable to convert 9 samples to features. Their ids are : 0-9-11, 0-5-0, 0-6-1, 0-1-0, 0-3-0, 0-7-7, 0-8-10, 0-4-0, 0-2-0\n",
      "INFO - haystack.modeling.data_handler.data_silo -  \n",
      "INFO - haystack.modeling.data_handler.data_silo -  LOADING DEV DATA\n",
      "INFO - haystack.modeling.data_handler.data_silo -  =================\n",
      "INFO - haystack.modeling.data_handler.data_silo -  No dev set is being loaded\n",
      "INFO - haystack.modeling.data_handler.data_silo -  \n",
      "INFO - haystack.modeling.data_handler.data_silo -  LOADING TEST DATA\n",
      "INFO - haystack.modeling.data_handler.data_silo -  =================\n",
      "INFO - haystack.modeling.data_handler.data_silo -  No test set is being loaded\n",
      "INFO - haystack.modeling.data_handler.data_silo -  \n",
      "INFO - haystack.modeling.data_handler.data_silo -  DATASETS SUMMARY\n",
      "INFO - haystack.modeling.data_handler.data_silo -  ================\n",
      "INFO - haystack.modeling.data_handler.data_silo -  Examples in train: 51\n",
      "INFO - haystack.modeling.data_handler.data_silo -  Examples in dev  : 0\n",
      "INFO - haystack.modeling.data_handler.data_silo -  Examples in test : 0\n",
      "INFO - haystack.modeling.data_handler.data_silo -  Total examples   : 51\n",
      "INFO - haystack.modeling.data_handler.data_silo -  \n",
      "INFO - haystack.modeling.model.optimization -  Loading optimizer 'AdamW': {'correct_bias': False, 'weight_decay': 0.01, 'lr': 1e-05}\n",
      "INFO - haystack.modeling.model.optimization -  Using scheduler 'get_linear_schedule_with_warmup'\n",
      "INFO - haystack.modeling.model.optimization -  Loading schedule 'get_linear_schedule_with_warmup': '{'num_training_steps': 120, 'num_warmup_steps': 24}'\n",
      "INFO - haystack.modeling.training.base -  No train checkpoints found. Starting a new training ...\n",
      "Train epoch 0/19 (Cur. train loss: 0.9047): 100%|██████████| 6/6 [00:01<00:00,  3.97it/s]\n",
      "Train epoch 1/19 (Cur. train loss: 0.0471): 100%|██████████| 6/6 [00:01<00:00,  3.86it/s]\n",
      "Train epoch 2/19 (Cur. train loss: 1.7764): 100%|██████████| 6/6 [00:01<00:00,  3.86it/s]\n",
      "Train epoch 3/19 (Cur. train loss: 0.0352): 100%|██████████| 6/6 [00:01<00:00,  3.85it/s]\n",
      "Train epoch 4/19 (Cur. train loss: 0.0298): 100%|██████████| 6/6 [00:01<00:00,  3.83it/s]\n",
      "Train epoch 5/19 (Cur. train loss: 1.6097): 100%|██████████| 6/6 [00:01<00:00,  3.83it/s]\n",
      "Train epoch 6/19 (Cur. train loss: 0.6003): 100%|██████████| 6/6 [00:01<00:00,  3.86it/s]\n",
      "Train epoch 7/19 (Cur. train loss: 0.4315): 100%|██████████| 6/6 [00:01<00:00,  3.86it/s]\n",
      "Train epoch 8/19 (Cur. train loss: 0.3828): 100%|██████████| 6/6 [00:01<00:00,  3.86it/s]\n",
      "Train epoch 9/19 (Cur. train loss: 0.4213): 100%|██████████| 6/6 [00:01<00:00,  3.85it/s]\n",
      "Train epoch 10/19 (Cur. train loss: 0.0760): 100%|██████████| 6/6 [00:01<00:00,  3.85it/s]\n",
      "Train epoch 11/19 (Cur. train loss: 0.0122): 100%|██████████| 6/6 [00:01<00:00,  3.84it/s]\n",
      "Train epoch 12/19 (Cur. train loss: 0.0054): 100%|██████████| 6/6 [00:01<00:00,  3.85it/s]\n",
      "Train epoch 13/19 (Cur. train loss: 0.0111): 100%|██████████| 6/6 [00:01<00:00,  3.85it/s]\n",
      "Train epoch 14/19 (Cur. train loss: 0.0021): 100%|██████████| 6/6 [00:01<00:00,  3.86it/s]\n",
      "Train epoch 15/19 (Cur. train loss: 0.0019): 100%|██████████| 6/6 [00:01<00:00,  3.84it/s]\n",
      "Train epoch 16/19 (Cur. train loss: 0.0023): 100%|██████████| 6/6 [00:01<00:00,  3.84it/s]\n",
      "Train epoch 17/19 (Cur. train loss: 0.0015): 100%|██████████| 6/6 [00:01<00:00,  3.84it/s]\n",
      "Train epoch 18/19 (Cur. train loss: 0.0014): 100%|██████████| 6/6 [00:01<00:00,  3.84it/s]\n",
      "Train epoch 19/19 (Cur. train loss: 0.0019): 100%|██████████| 6/6 [00:01<00:00,  3.85it/s]\n",
      "INFO - haystack.nodes.reader.farm -  Saving reader model to hy_fine_trained\n"
     ]
    }
   ],
   "source": [
    "\n",
    "ft_reader.train(data_dir=BASE_SQAC_DIR, train_filename=SQAC_AW, use_gpu=True, n_epochs=20, save_dir=FT_MODEL)\n"
   ]
  },
  {
   "cell_type": "code",
   "execution_count": 43,
   "metadata": {},
   "outputs": [
    {
     "name": "stderr",
     "output_type": "stream",
     "text": [
      "INFO - haystack.modeling.utils -  Using devices: CUDA:0 - Number of GPUs: 1\n"
     ]
    }
   ],
   "source": [
    "document_store = InMemoryDocumentStore(use_bm25=True)\n",
    "retriever = BM25Retriever(document_store=document_store)"
   ]
  },
  {
   "cell_type": "code",
   "execution_count": 44,
   "metadata": {},
   "outputs": [
    {
     "name": "stderr",
     "output_type": "stream",
     "text": [
      "INFO - haystack.pipelines.base -  It seems that an indexing Pipeline is run, so using the nodes' run method instead of run_batch.\n",
      "Converting files: 100%|██████████| 2/2 [00:00<00:00, 420.46it/s]\n",
      "Preprocessing: 100%|██████████| 2/2 [00:00<00:00, 389.77docs/s]\n",
      "Updating BM25 representation...: 100%|██████████| 13/13 [00:00<00:00, 19827.62 docs/s]\n"
     ]
    },
    {
     "data": {
      "text/plain": [
       "{'documents': [<Document: {'content': '==Shogun Raiden==\\n\\n==Info==\\nLa Shogun Raiden (en japonés: 雷電 将軍 Raiden Shougun), cuyo nombre real es Ei, es un personaje jugable en Genshin Impact.\\nElla controla una marioneta mientras medita dentro del Plano de la eutimia. Ella es el recipiente mortal de Beelzebul, la actual Arconte Electro de Inazuma.\\nHizo su primera aparición como PNJ en la Versión 2.0 y llegó por primera vez en la Versión 2.1 en el gachapón \"Reino de la serenidad\".\\n\\n==Perfil==\\nGobernante indiscutible de toda Inazuma\\nLlevando el nombre de \"Su Excelencia, la todopoderosa Narukami\", le prometió a los habitantes de Inazuma la inmutable eternidad.\\nHa destruido el amor con el destello de un relámpago, forjando una tierra pura a partir de un corazón solitario.\\nDurante estos largos años, el camino hacia la eternidad ha sido oscuro y lejano, pero Su Alteza Shogun no ha dudado ni un momento.\\nSolo en el silencio, la eternidad inmutable revela su naturaleza serena.\\n\\n==Apariencia==\\nLa Shogun Raiden es una mujer adulta con largo cabello violeta trenzado que va detrás de su espalda y una horquilla en su lado derecho. Lleva una pequeña cinta carmesí en el cuello a modo de gargantilla. ', 'content_type': 'text', 'score': None, 'meta': {'_split_id': 0}, 'id_hash_keys': ['content'], 'embedding': None, 'id': '62178ea2b05adcb37e63ceb219b07e4b'}>,\n",
       "  <Document: {'content': 'Su kimono tiene una variedad de patrones en diferentes tonos de púrpura y carmesí, junto con una insignia con el emblema de Inazuma atada al frente de su ropa debajo de su pecho derecho. Lleva medias de color púrpura oscuro por encima del nivel de la rodilla, con pequeñas aberturas de diamantes en la parte superior. En la parte de atrás de su atuendo lleva un lazo carmesí con borlas. Ella también usa sandalias; la de la derecha está adornada con dos flores de color violeta pálido.\\n\\nNo se sabe si el alfiler de abanico en su espalda es una Visión falsa o simplemente una marca. Su cabello si brilla cuando realiza las habilidades elementales,tienen inscritas la marca Electro.\\n\\n==Personalidad==\\nLa Shogun Raiden es una firme creyente de lo que cree que es la eternidad, un lugar en el que todo se mantiene igual, independientemente de lo que realmente suceda. Ella es honorable en su conducta y es venerada por la gente de Inazuma.\\n\\nLa Shogun existe en dos formas: Ei, su verdadera identidad, y la Shogun, una marioneta creada por Ei para actuar como gobernante de Inazuma en su lugar mientras ella medita en el Plano de la eutimia. ', 'content_type': 'text', 'score': None, 'meta': {'_split_id': 1}, 'id_hash_keys': ['content'], 'embedding': None, 'id': '20d817a1ef38b7544aafd8057f25f60d'}>,\n",
       "  <Document: {'content': 'Esta marioneta sigue un conjunto de directivas programadas en ella, que son extremadamente difíciles de modificar incluso por la propia Ei. La Shogun tiene una personalidad fría y severa, incluso insensible a veces; ella es limitada en la expresión emocional, no tiene gustos ni disgustos, y no tiene necesidad de recreación. La Shogun se considera la asistente de Ei, y hace exactamente lo que desea, ni más ni menos; no puede actuar sin la dirección de Ei, y si sus funciones habituales están desactivadas, el Shogun se vuelve incapaz de hacer nada. Debido a su gama limitada de protocolos y la apatía de Ei hacia cualquier cosa fuera de la eternidad que busca, el Shogun puede ser fácilmente manipulado por fuerzas externas, como cuando el Clan Kujou y los Fatui la manipularon para iniciar y perpetuar el Decreto de captura de Visiones.\\n\\nSi bien Ei sigue siendo relativamente estoica en comparación con la mayoría de las personas, es notablemente más emotiva y amigable que la Shogun. A diferencia de la Shogun, Ei tiene cosas que le gustan y que no le gustan, como la afición por los dulces. ', 'content_type': 'text', 'score': None, 'meta': {'_split_id': 2}, 'id_hash_keys': ['content'], 'embedding': None, 'id': 'b5e53d22a58b0feaaac84f88dd2f3311'}>,\n",
       "  <Document: {'content': 'Debido a su dedicación a la eternidad, Ei desconfía de la idea del cambio, aunque muestra más curiosidad que desdén cuando se trata de cosas nuevas, como la aparición del Viajero y las costumbres del mundo moderno. Debido a que ha perdido a muchos de sus seres queridos a lo largo de los siglos, Ei se siente impulsada por el miedo a una mayor pérdida y desea preservar a Inazuma por toda la eternidad. Con este fin, se selló en el Plano de la Eutimia en un esfuerzo por preservarse de los efectos de la erosión, mientras creaba el Shogun para que fuera inmune a la descomposición del cuerpo físico. Mientras estaba en el Plano de la Eutimia, Ei era apática hacia cualquier cosa que no afectara su búsqueda de la eternidad, y tenía una baja opinión de la ambición humana debido a que la ambición conducía a la pérdida y al sufrimiento, lo que la hacía incompatible con la eternidad. Incluso en el Plano de Eutimia, sin embargo, no pudo escapar realmente de la soledad, ya que estaba feliz de volver a ver a su amiga Yae Miko.\\n\\n', 'content_type': 'text', 'score': None, 'meta': {'_split_id': 3}, 'id_hash_keys': ['content'], 'embedding': None, 'id': 'e1b4c32c12fb548cabadac32e6d7bbc5'}>,\n",
       "  <Document: {'content': 'Ei tiene una gran debilidad contra los postres, ya que su opinión es que los postres no pueden representar ningún obstáculo serio para su búsqueda de la Eternidad; Esto también es mencionado por Yae Miko y Venti, con este ultimo sugiriendo al Viajero que le lleve postres para explotar dicha debilidad.\\n\\n==Historia==\\nDesde los albores de la humanidad, la gente siempre ha sentido un gran anhelo y curiosidad por las cosas del mundo. Esta es la base de la cognición y el fundamento sobre el que se sustenta la razón.\\n\\nPara la gente de Inazuma, el mundo es así también. En esta nación, las tormentas y los rayos existen desde hace mucho tiempo, igual que existe la luz, el océano y... la Shogun Raiden.\\n\\nCuando los niños se van a dormir, las madres suelen contarles la leyenda de cómo la Shogun derrotó a otros dioses y conquistó otros pueblos.\\n\\nCuando los niños de Inazuma visitan otras islas, ven cañones creados mediante el corte de los rayos y los pálidos e imponentes huesos de una serpiente.\\n\\nCuando los soldados van a la guerra, todos gritan \"¡gloria a la Shogun y a su imperio eterno!\"', 'content_type': 'text', 'score': None, 'meta': {'_split_id': 4}, 'id_hash_keys': ['content'], 'embedding': None, 'id': '5acbbab873758cd29685c1a92dcb8781'}>,\n",
       "  <Document: {'content': 'La gente con trabajos y vidas tranquilos se siente agradecida con la Shogun y los servicios del fiel Triunvirato.\\n\\nLa reputación de la Shogun Raiden trascendió los límites de lo mortal hace mucho tiempo, y se convirtió en una eterna fe que se ha transmitido en Inazuma durante generaciones.\\n\\nDebido al prestigio y el poder de su Arconte, el pueblo de Inazuma tiene razones para creer que sus descendientes también verán los mismos paisajes y construirán su mundo en torno a esta fe, la cual seguirán transmitiendo a las siguientes generaciones.\\n\\nEn esto precisamente consiste la utopía eterna que la Shogun le prometió a su pueblo.\\n\\n==Talentos==\\nEstilo Genryuu\\nAtaque normal\\nAtaque Normal: Ejecuta hasta 5 golpes consecutivos con su lanza.\\nAtaque Cargado: Consume una cierta cantidad de Aguante para realizar un ataque hacia arriba.\\nAtaque descendiente: Se lanza desde el aire para golpear el suelo, dañando a los enemigos cercanos e infligiendo Daño en el AdE en el momento de impacto.\\n\\n', 'content_type': 'text', 'score': None, 'meta': {'_split_id': 5}, 'id_hash_keys': ['content'], 'embedding': None, 'id': '193478b389855595d203493b51abe46a'}>,\n",
       "  <Document: {'content': 'Trascendencia: Presagio maligno\\nHabilidad elemental\\nLa Shogun Raiden libera un fragmento de su eutimia para infligir Daño Electro contra los enemigos de alrededor y otorgar a todos los personajes del equipo cercanos el efecto de \"Ojo del castigo atronador\".\\n\\nOjo del castigo atronador\\n\\nCuando los ataques de los personajes que obtengan este efecto inflijan daño a un enemigo, el ojo liberará un ataque coordinado que inflige Daño Electro en el AdE en la ubicación de ese enemigo.\\nMientras un personaje esté bajo los efectos de ojo del castigo atronador, el daño que inflige con su Habilidad Definitiva aumenta en proporción a la Energía Elemental consumida para realizar dicha habilidad.\\nComo máximo, el ojo del castigo atronador solo podrá ejecutar un ataque coordinado cada 0.9 s por equipo.\\n\\nEl daño infligido con el ataque coordinado por personajes que no son de tu equipo será de un 20% del daño original.\\n\\nTécnica secreta: Verdad onírica\\nHabilidad definitiva\\nReúne las infinitas verdades y consume su ambición infinita para ejecutar un corte onírico que extermina todas las maldiciones del mundo, infligiendo Daño Electro en el AdE y pasando al estado de \"mente onírica\" durante cierto periodo de tiempo. ', 'content_type': 'text', 'score': None, 'meta': {'_split_id': 6}, 'id_hash_keys': ['content'], 'embedding': None, 'id': 'f19511405c18c05fcdd4117d344e80b2'}>,\n",
       "  <Document: {'content': 'El daño infligido con corte onírico y con los ataques de mente onírica dependerá de las cargas de rueda de la ambición consumidas cuando esta habilidad sea utilizada.\\n\\nMente onírica\\n\\nEn este estado, la Shogun Raiden ataca con su tachi, y sus Ataques Normales, Cargados y Descendentes infligen Daño Electro, el cual no puede sustituirse imbuyéndose de otro elemento.\\nAl golpear a un enemigo con estos ataques, todos los personajes del equipo cercanos regeneran Energía Elemental. Esta regeneración puede ocurrir una vez por segundo y activarse un máximo de 5 veces mientras mente onírica está activa.\\nEn este estado, la RES a interrupción de la Shogun Raiden aumenta, y se vuelve inmune al daño recibido por la reacción de Electrocargado.\\nDurante el estado de mente onírica, el daño infligido por los Ataques Normales, Cargados y Descendentes de la Shogun Raiden se considera daño de Habilidad Definitiva.\\nEl efecto de mente onírica desaparece cuando la Shogun Raiden abandona el campo de batalla.\\n', 'content_type': 'text', 'score': None, 'meta': {'_split_id': 7}, 'id_hash_keys': ['content'], 'embedding': None, 'id': '74e75bc8cec694f3e4b0240ac73670cd'}>,\n",
       "  <Document: {'content': 'Rueda de la ambición\\n\\nCuando un personaje cercano del equipo (a excepción de la Shogun Raiden) realiza una Habilidad Definitiva, la Shogun Raiden acumula ambición en proporción a la cantidad de Energia Elemental que ese personaje para realizar su Habilidad Definitiva. Solo se puede acumular un máximo de 60 cargas de ambición.\\nLas cargas de ambición acumuladas para la rueda de la ambición se perderán 300 segundos después de que la Shogun Raiden se retire de combate.', 'content_type': 'text', 'score': None, 'meta': {'_split_id': 8}, 'id_hash_keys': ['content'], 'embedding': None, 'id': 'f9c6b521c3731c2918c4cda265672b51'}>,\n",
       "  <Document: {'content': '==Laila==\\n\\n==Perfil==\\n\"Siempre dice que está abrumada escribiendo su tesis y que dibujar mapas astrales la estresa, pero es más resistente que nadie, y se niega a quedarse atrás... ¿Por qué la conozco tan bien? Jeje...\"\\n~ Una misteriosa joven que se hace llamar \"La bendición de las estrellas\"\\nEstudiante de la Facultad Rtawahist, Laila se está especializando en astrología teórica y dibuja incansablemente mapas astrales que incluir en su tesis.\\n\\nDebido a las altas expectativas de sus profesores, su escritorio siempre está cubierto de montones de papeles que no dejan de crecer por más que se esfuerce.\\n\\nAl sufrir de una severa falta de sueño, si detiene la mirada fijamente sobre un papel en blanco, montones de estrellas comenzarán a titilar frente a sus ojos.\\n\\nEs por eso que decidió tomarse un pequeño descanso, para ser capaz de afrontar la realidad con una mente lúcida y despejada.\\n\\nCuando abrió los ojos de nuevo, descubrió que una miríada de estrellas habían adornado el manuscrito que previamente dejó en blanco.\\n\\nLaila se frotó los ojos para asegurarse de que no estaba soñando. La tesis que debía presentarse al día siguiente estaba ahora claramente escrita en los papeles.\\n\\n', 'content_type': 'text', 'score': None, 'meta': {'_split_id': 0}, 'id_hash_keys': ['content'], 'embedding': None, 'id': '7e529f4a69888a448c5e74ab96acc4f2'}>,\n",
       "  <Document: {'content': '¿Es una tesis que cayó del cielo? ¿O una bendición de las estrellas? ¿O es eso de... sonambulismo del que hablan en las leyendas?\\n\\n... No había tiempo para reflexionar sobre estas cuestiones: la próxima clase de Laila estaba a punto de empezar.\\n\\n==Apariencia==\\nLaila es una joven delgada de piel clara y ojos dorados con pupilas blancas. Tiene el pelo azul oscuro, que se va aclarando en las puntas, y está peinado con coletas que giran en las puntas y orejas puntiagudas. Su rostro está enmarcado por un flequillo que también gira en las puntas y que llega hasta más allá de la barbilla y hasta los hombros. Lleva un tocado dorado que parece una tiara adornada con un adorno de copos de nieve y una capucha puntiaguda de color índigo.\\n\\nEl atuendo de Laila consiste en una túnica negra con la parte delantera blanca y mangas abullonadas de color índigo. Alrededor de las muñecas lleva gruesos brazaletes de oro con cadenas que cuelgan de ellos y guantes negros con afiladas cuchillas doradas. Alrededor de la cintura lleva un largo trozo de tela añil atado para formar un cinturón con varios detalles dorados. ', 'content_type': 'text', 'score': None, 'meta': {'_split_id': 1}, 'id_hash_keys': ['content'], 'embedding': None, 'id': 'f82843ba3dada1754b18b41bf031a32f'}>,\n",
       "  <Document: {'content': 'Lleva unas mallas blancas con anillos dorados alrededor del muslo izquierdo y unas sandalias doradas. Su Visión Cryo está sujeta a un punto detrás de su túnica, por encima del cinturón.\\n\\n==Personalidad==\\nDebido en parte al estilo de vida de la Akademiya, Laila está muy dedicada a sus estudios, pero esto también la ha dejado algo paranoica y con mucha falta de sueño, haciéndola muy tímida y pareciendo que podría colapsar por agotamiento en cualquier momento. A pesar de estos rasgos, Laila es inusualmente perseverante, ya que sobrevivió a varios de sus compañeros de clase que se unieron al mismo tiempo que ella.\\n\\nLa falta de sueño de Laila es hasta el punto de que termina sonámbula en la noche, donde se manifiesta una personalidad alternativa de ella. Esta persona es enérgica y decidida, ayudando a resolver todos sus problemas en un instante. Cuando Laila se despierta, expresa sorpresa de cómo sus papeles habían terminado por completo. Parece no ser consciente de su personalidad alternativa, sino que cree que está bendecida por las estrellas.\\n\\n==Historia==\\nLa Facultad Rtawahist, a la que pertenece la Escuela de Iluminacionismo, es una de las Seis Facultades bajo la jurisdicción de la Academia de Sumeru.\\n\\n', 'content_type': 'text', 'score': None, 'meta': {'_split_id': 2}, 'id_hash_keys': ['content'], 'embedding': None, 'id': '68a8bbec68237d28b2feea0d8d9e609b'}>,\n",
       "  <Document: {'content': 'Cada una de las Seis Escuelas tiene un área de investigación distinta. La Escuela de Iluminacionismo se dedica al estudio de la bóveda celeste que flota encima de todos los seres vivos desde tiempos inmemoriales.\\n\\nLaila es precisamente una de los tantos estudiantes que consagran su estudio en esta área de investigación.\\n\\nA pesar de que no lleva mucho tiempo en la Academia, ya se ha granjeado un sinnúmero de motes extraños.\\n\\n\"Sonámbula excéntrica\", \"calculadora andante\", \"tesis caída del cielo\"... Todo aquel que conoce a Laila se refiere a ella con esta clase de sobrenombres.\\n\\nPeor aún es que, conforme pasan los días, la lista de apodos se vuelve más y más larga.', 'content_type': 'text', 'score': None, 'meta': {'_split_id': 3}, 'id_hash_keys': ['content'], 'embedding': None, 'id': '837589bb20f2d9f358e2453b8dade789'}>],\n",
       " 'root_node': 'File',\n",
       " 'params': {},\n",
       " 'file_paths': ['gi_datasets/shogun_raiden.txt', 'gi_datasets/laila.txt'],\n",
       " 'node_id': 'DocumentStore'}"
      ]
     },
     "execution_count": 44,
     "metadata": {},
     "output_type": "execute_result"
    }
   ],
   "source": [
    "\n",
    "files_to_index = [BASE_DOCUMENTS_DIR + \"/\" + f for f in os.listdir(BASE_DOCUMENTS_DIR)]\n",
    "indexing_pipeline = TextIndexingPipeline(document_store)\n",
    "indexing_pipeline.run_batch(file_paths=files_to_index)\n"
   ]
  },
  {
   "cell_type": "code",
   "execution_count": 45,
   "metadata": {},
   "outputs": [
    {
     "name": "stderr",
     "output_type": "stream",
     "text": [
      "INFO - haystack.modeling.utils -  Using devices: CUDA:0 - Number of GPUs: 1\n",
      "INFO - haystack.modeling.utils -  Using devices: CUDA:0 - Number of GPUs: 1\n",
      "INFO - haystack.modeling.model.language_model -   * LOADING MODEL: 'hy_fine_trained' (Roberta)\n",
      "INFO - haystack.modeling.model.language_model -  Loaded 'hy_fine_trained' (Roberta model) from local file system.\n",
      "INFO - haystack.modeling.model.adaptive_model -  Found files for loading 1 prediction heads\n",
      "WARNING - haystack.modeling.model.prediction_head -  Some unused parameters are passed to the QuestionAnsweringHead. Might not be a problem. Params: {\"training\": false, \"num_labels\": 2, \"ph_output_type\": \"per_token_squad\", \"model_type\": \"span_classification\", \"label_tensor_name\": \"question_answering_label_ids\", \"label_list\": [\"start_token\", \"end_token\"], \"metric\": \"squad\", \"name\": \"QuestionAnsweringHead\"}\n",
      "INFO - haystack.modeling.model.prediction_head -  Loading prediction head from hy_fine_trained/prediction_head_0.bin\n",
      "INFO - haystack.modeling.data_handler.processor -  Initialized processor without tasks. Supply `metric` and `label_list` to the constructor for using the default task or add a custom task later via processor.add_task()\n",
      "INFO - haystack.modeling.utils -  Using devices: CUDA:0 - Number of GPUs: 1\n"
     ]
    }
   ],
   "source": [
    "ftd_reader = FARMReader(model_name_or_path=FT_MODEL, use_gpu=True)\n",
    "#ftd_reader = FARMReader(model_name_or_path=BASE_MODEL_FOR_FT, use_gpu=True)\n"
   ]
  },
  {
   "cell_type": "code",
   "execution_count": 46,
   "metadata": {},
   "outputs": [],
   "source": [
    "pipe = ExtractiveQAPipeline(ftd_reader, retriever)\n"
   ]
  },
  {
   "cell_type": "code",
   "execution_count": 47,
   "metadata": {},
   "outputs": [
    {
     "name": "stderr",
     "output_type": "stream",
     "text": [
      "Inferencing Samples: 100%|██████████| 1/1 [00:00<00:00,  6.37 Batches/s]\n",
      "Inferencing Samples: 100%|██████████| 1/1 [00:00<00:00,  7.35 Batches/s]\n",
      "Inferencing Samples: 100%|██████████| 1/1 [00:00<00:00,  7.39 Batches/s]\n",
      "Inferencing Samples: 100%|██████████| 1/1 [00:00<00:00,  7.30 Batches/s]\n",
      "Inferencing Samples: 100%|██████████| 1/1 [00:00<00:00,  6.42 Batches/s]\n"
     ]
    }
   ],
   "source": [
    "queries = [\n",
    "    \"¿De quién es el recipiente Ei?\",\n",
    "    \"¿Cuál es el nombre de la Shogun Raiden en japonés?\",\n",
    "    \"¿Cuál es la habilidad básica de la Shogun Raiden?\",\n",
    "    \"¿Qué estudia Laila?\",\n",
    "    \"¿Cuál es el aspecto de Laila?\"\n",
    "]\n",
    "\n",
    "responses = []\n",
    "\n",
    "for q in queries:\n",
    "    prediction = pipe.run(query=q, params={\"Retriever\": {\"top_k\": 10}, \"Reader\": {\"top_k\": 5}})\n",
    "    responses.append(prediction[\"answers\"][0].answer)"
   ]
  },
  {
   "cell_type": "code",
   "execution_count": 48,
   "metadata": {},
   "outputs": [
    {
     "data": {
      "text/plain": [
       "['el Plano de la Eutimia',\n",
       " '雷電 将軍 Raiden Shougun',\n",
       " 'Habilidad elemental',\n",
       " 'Estudiante de la Facultad Rtawahist, Laila se está especializando en astrología teórica y dibuja incansablemente mapas astrales que incluir en su tesis.',\n",
       " 'Laila es una joven delgada de piel clara y ojos dorados con pupilas blancas. Tiene el pelo azul oscuro, que se va aclarando en las puntas, y está peinado con coletas que giran en las puntas y orejas puntiagudas. Su rostro está enmarcado por un flequillo que también gira en las puntas y que llega hasta más allá de la barbilla y hasta los hombros. Lleva un tocado dorado que parece una tiara adornada con un adorno de copos de nieve y una capucha puntiaguda de color índigo.']"
      ]
     },
     "execution_count": 48,
     "metadata": {},
     "output_type": "execute_result"
    }
   ],
   "source": [
    "responses\n"
   ]
  }
 ],
 "metadata": {
  "kernelspec": {
   "display_name": "venv",
   "language": "python",
   "name": "python3"
  },
  "language_info": {
   "codemirror_mode": {
    "name": "ipython",
    "version": 3
   },
   "file_extension": ".py",
   "mimetype": "text/x-python",
   "name": "python",
   "nbconvert_exporter": "python",
   "pygments_lexer": "ipython3",
   "version": "3.11.2"
  },
  "orig_nbformat": 4
 },
 "nbformat": 4,
 "nbformat_minor": 2
}
